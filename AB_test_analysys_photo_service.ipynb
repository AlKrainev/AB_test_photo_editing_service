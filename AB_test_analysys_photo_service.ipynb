{
 "cells": [
  {
   "cell_type": "code",
   "execution_count": 163,
   "metadata": {},
   "outputs": [],
   "source": [
    "import numpy as np\n",
    "import pandas as pd\n",
    "import matplotlib.pyplot as plt\n",
    "from matplotlib.gridspec import GridSpec\n",
    "import seaborn as sns\n",
    "from matplotlib.axes import Axes\n",
    "from scipy.stats import t\n",
    "from scipy.stats import ttest_ind, median_test\n",
    "\n",
    "\n",
    "import warnings\n",
    "warnings.filterwarnings('ignore')"
   ]
  },
  {
   "cell_type": "markdown",
   "metadata": {},
   "source": [
    "###  1. Загрузка данных"
   ]
  },
  {
   "cell_type": "code",
   "execution_count": 164,
   "metadata": {},
   "outputs": [],
   "source": [
    "active_users = pd.read_csv('project_4_active_users.csv', \n",
    "                           low_memory=False)\n",
    "\n",
    "groups = pd.read_csv('project_4_groups.csv', \n",
    "                     low_memory=False)\n",
    "\n",
    "purchases = pd.read_csv('project_4_purchases.csv', \n",
    "                        low_memory=False)"
   ]
  },
  {
   "cell_type": "code",
   "execution_count": 165,
   "metadata": {},
   "outputs": [],
   "source": [
    "# чистка данный от дублей и пропусков\n",
    "active_users = active_users.drop_duplicates().dropna()\n",
    "groups = groups.drop_duplicates().dropna()\n",
    "#purchases = purchases.drop_duplicates().dropna()"
   ]
  },
  {
   "cell_type": "code",
   "execution_count": 166,
   "metadata": {},
   "outputs": [
    {
     "data": {
      "text/html": [
       "<div>\n",
       "<style scoped>\n",
       "    .dataframe tbody tr th:only-of-type {\n",
       "        vertical-align: middle;\n",
       "    }\n",
       "\n",
       "    .dataframe tbody tr th {\n",
       "        vertical-align: top;\n",
       "    }\n",
       "\n",
       "    .dataframe thead th {\n",
       "        text-align: right;\n",
       "    }\n",
       "</style>\n",
       "<table border=\"1\" class=\"dataframe\">\n",
       "  <thead>\n",
       "    <tr style=\"text-align: right;\">\n",
       "      <th></th>\n",
       "      <th>user_id</th>\n",
       "      <th>country</th>\n",
       "      <th>platform</th>\n",
       "      <th>sex</th>\n",
       "    </tr>\n",
       "  </thead>\n",
       "  <tbody>\n",
       "    <tr>\n",
       "      <th>0</th>\n",
       "      <td>8029</td>\n",
       "      <td>Russia</td>\n",
       "      <td>ios</td>\n",
       "      <td>male</td>\n",
       "    </tr>\n",
       "    <tr>\n",
       "      <th>1</th>\n",
       "      <td>1735</td>\n",
       "      <td>Sweden</td>\n",
       "      <td>ios</td>\n",
       "      <td>male</td>\n",
       "    </tr>\n",
       "    <tr>\n",
       "      <th>2</th>\n",
       "      <td>7697</td>\n",
       "      <td>Russia</td>\n",
       "      <td>android</td>\n",
       "      <td>male</td>\n",
       "    </tr>\n",
       "    <tr>\n",
       "      <th>3</th>\n",
       "      <td>1421</td>\n",
       "      <td>Sweden</td>\n",
       "      <td>android</td>\n",
       "      <td>female</td>\n",
       "    </tr>\n",
       "    <tr>\n",
       "      <th>4</th>\n",
       "      <td>1704</td>\n",
       "      <td>Russia</td>\n",
       "      <td>ios</td>\n",
       "      <td>male</td>\n",
       "    </tr>\n",
       "  </tbody>\n",
       "</table>\n",
       "</div>"
      ],
      "text/plain": [
       "   user_id country platform     sex\n",
       "0     8029  Russia      ios    male\n",
       "1     1735  Sweden      ios    male\n",
       "2     7697  Russia  android    male\n",
       "3     1421  Sweden  android  female\n",
       "4     1704  Russia      ios    male"
      ]
     },
     "execution_count": 166,
     "metadata": {},
     "output_type": "execute_result"
    }
   ],
   "source": [
    "active_users.head()"
   ]
  },
  {
   "cell_type": "code",
   "execution_count": 167,
   "metadata": {},
   "outputs": [
    {
     "data": {
      "text/plain": [
       "8341"
      ]
     },
     "execution_count": 167,
     "metadata": {},
     "output_type": "execute_result"
    }
   ],
   "source": [
    "active_users.shape[0]"
   ]
  },
  {
   "cell_type": "code",
   "execution_count": 168,
   "metadata": {},
   "outputs": [
    {
     "data": {
      "text/html": [
       "<div>\n",
       "<style scoped>\n",
       "    .dataframe tbody tr th:only-of-type {\n",
       "        vertical-align: middle;\n",
       "    }\n",
       "\n",
       "    .dataframe tbody tr th {\n",
       "        vertical-align: top;\n",
       "    }\n",
       "\n",
       "    .dataframe thead th {\n",
       "        text-align: right;\n",
       "    }\n",
       "</style>\n",
       "<table border=\"1\" class=\"dataframe\">\n",
       "  <thead>\n",
       "    <tr style=\"text-align: right;\">\n",
       "      <th></th>\n",
       "      <th>user_id</th>\n",
       "      <th>group</th>\n",
       "    </tr>\n",
       "  </thead>\n",
       "  <tbody>\n",
       "    <tr>\n",
       "      <th>0</th>\n",
       "      <td>9149</td>\n",
       "      <td>B</td>\n",
       "    </tr>\n",
       "    <tr>\n",
       "      <th>1</th>\n",
       "      <td>9150</td>\n",
       "      <td>B</td>\n",
       "    </tr>\n",
       "    <tr>\n",
       "      <th>2</th>\n",
       "      <td>9151</td>\n",
       "      <td>A</td>\n",
       "    </tr>\n",
       "    <tr>\n",
       "      <th>3</th>\n",
       "      <td>9152</td>\n",
       "      <td>B</td>\n",
       "    </tr>\n",
       "    <tr>\n",
       "      <th>4</th>\n",
       "      <td>9153</td>\n",
       "      <td>B</td>\n",
       "    </tr>\n",
       "  </tbody>\n",
       "</table>\n",
       "</div>"
      ],
      "text/plain": [
       "   user_id group\n",
       "0     9149     B\n",
       "1     9150     B\n",
       "2     9151     A\n",
       "3     9152     B\n",
       "4     9153     B"
      ]
     },
     "execution_count": 168,
     "metadata": {},
     "output_type": "execute_result"
    }
   ],
   "source": [
    "groups.head()"
   ]
  },
  {
   "cell_type": "code",
   "execution_count": 169,
   "metadata": {},
   "outputs": [
    {
     "data": {
      "text/plain": [
       "74576"
      ]
     },
     "execution_count": 169,
     "metadata": {},
     "output_type": "execute_result"
    }
   ],
   "source": [
    "groups.shape[0]"
   ]
  },
  {
   "cell_type": "code",
   "execution_count": 170,
   "metadata": {},
   "outputs": [
    {
     "data": {
      "text/html": [
       "<div>\n",
       "<style scoped>\n",
       "    .dataframe tbody tr th:only-of-type {\n",
       "        vertical-align: middle;\n",
       "    }\n",
       "\n",
       "    .dataframe tbody tr th {\n",
       "        vertical-align: top;\n",
       "    }\n",
       "\n",
       "    .dataframe thead th {\n",
       "        text-align: right;\n",
       "    }\n",
       "</style>\n",
       "<table border=\"1\" class=\"dataframe\">\n",
       "  <thead>\n",
       "    <tr style=\"text-align: right;\">\n",
       "      <th></th>\n",
       "      <th>user_id</th>\n",
       "      <th>revenue</th>\n",
       "    </tr>\n",
       "  </thead>\n",
       "  <tbody>\n",
       "    <tr>\n",
       "      <th>0</th>\n",
       "      <td>4412</td>\n",
       "      <td>1000.0</td>\n",
       "    </tr>\n",
       "    <tr>\n",
       "      <th>1</th>\n",
       "      <td>9000</td>\n",
       "      <td>701.0</td>\n",
       "    </tr>\n",
       "    <tr>\n",
       "      <th>2</th>\n",
       "      <td>9001</td>\n",
       "      <td>700.0</td>\n",
       "    </tr>\n",
       "    <tr>\n",
       "      <th>3</th>\n",
       "      <td>9002</td>\n",
       "      <td>702.0</td>\n",
       "    </tr>\n",
       "    <tr>\n",
       "      <th>4</th>\n",
       "      <td>5790</td>\n",
       "      <td>1002.0</td>\n",
       "    </tr>\n",
       "  </tbody>\n",
       "</table>\n",
       "</div>"
      ],
      "text/plain": [
       "   user_id  revenue\n",
       "0     4412   1000.0\n",
       "1     9000    701.0\n",
       "2     9001    700.0\n",
       "3     9002    702.0\n",
       "4     5790   1002.0"
      ]
     },
     "execution_count": 170,
     "metadata": {},
     "output_type": "execute_result"
    }
   ],
   "source": [
    "purchases.head()"
   ]
  },
  {
   "cell_type": "code",
   "execution_count": 171,
   "metadata": {},
   "outputs": [
    {
     "data": {
      "text/plain": [
       "541"
      ]
     },
     "execution_count": 171,
     "metadata": {},
     "output_type": "execute_result"
    }
   ],
   "source": [
    "purchases.shape[0]"
   ]
  },
  {
   "cell_type": "markdown",
   "metadata": {},
   "source": [
    "Объединяем все данные в один датасет. К большему присоедюняются меньшие."
   ]
  },
  {
   "cell_type": "code",
   "execution_count": 172,
   "metadata": {},
   "outputs": [
    {
     "data": {
      "text/html": [
       "<div>\n",
       "<style scoped>\n",
       "    .dataframe tbody tr th:only-of-type {\n",
       "        vertical-align: middle;\n",
       "    }\n",
       "\n",
       "    .dataframe tbody tr th {\n",
       "        vertical-align: top;\n",
       "    }\n",
       "\n",
       "    .dataframe thead th {\n",
       "        text-align: right;\n",
       "    }\n",
       "</style>\n",
       "<table border=\"1\" class=\"dataframe\">\n",
       "  <thead>\n",
       "    <tr style=\"text-align: right;\">\n",
       "      <th></th>\n",
       "      <th>user_id</th>\n",
       "      <th>group</th>\n",
       "      <th>country</th>\n",
       "      <th>platform</th>\n",
       "      <th>sex</th>\n",
       "      <th>revenue</th>\n",
       "    </tr>\n",
       "  </thead>\n",
       "  <tbody>\n",
       "    <tr>\n",
       "      <th>0</th>\n",
       "      <td>9149</td>\n",
       "      <td>B</td>\n",
       "      <td>NaN</td>\n",
       "      <td>NaN</td>\n",
       "      <td>NaN</td>\n",
       "      <td>NaN</td>\n",
       "    </tr>\n",
       "    <tr>\n",
       "      <th>1</th>\n",
       "      <td>9150</td>\n",
       "      <td>B</td>\n",
       "      <td>NaN</td>\n",
       "      <td>NaN</td>\n",
       "      <td>NaN</td>\n",
       "      <td>NaN</td>\n",
       "    </tr>\n",
       "    <tr>\n",
       "      <th>2</th>\n",
       "      <td>9151</td>\n",
       "      <td>A</td>\n",
       "      <td>NaN</td>\n",
       "      <td>NaN</td>\n",
       "      <td>NaN</td>\n",
       "      <td>NaN</td>\n",
       "    </tr>\n",
       "    <tr>\n",
       "      <th>3</th>\n",
       "      <td>9152</td>\n",
       "      <td>B</td>\n",
       "      <td>NaN</td>\n",
       "      <td>NaN</td>\n",
       "      <td>NaN</td>\n",
       "      <td>NaN</td>\n",
       "    </tr>\n",
       "    <tr>\n",
       "      <th>4</th>\n",
       "      <td>9153</td>\n",
       "      <td>B</td>\n",
       "      <td>NaN</td>\n",
       "      <td>NaN</td>\n",
       "      <td>NaN</td>\n",
       "      <td>NaN</td>\n",
       "    </tr>\n",
       "  </tbody>\n",
       "</table>\n",
       "</div>"
      ],
      "text/plain": [
       "   user_id group country platform  sex  revenue\n",
       "0     9149     B     NaN      NaN  NaN      NaN\n",
       "1     9150     B     NaN      NaN  NaN      NaN\n",
       "2     9151     A     NaN      NaN  NaN      NaN\n",
       "3     9152     B     NaN      NaN  NaN      NaN\n",
       "4     9153     B     NaN      NaN  NaN      NaN"
      ]
     },
     "execution_count": 172,
     "metadata": {},
     "output_type": "execute_result"
    }
   ],
   "source": [
    "merged_data = (groups\n",
    "               .merge(active_users, how='outer')\n",
    "               .merge(purchases, how='outer'))\n",
    "\n",
    "merged_data.head()"
   ]
  },
  {
   "cell_type": "code",
   "execution_count": 173,
   "metadata": {},
   "outputs": [],
   "source": [
    "# Добавим колонку с маркером активности пользователя\n",
    "merged_data['is_active'] = merged_data[['country', 'revenue']]\\\n",
    "                            .apply(lambda x: any([pd.notna(x[0]), pd.notna(x[1])]), axis = 1)\\\n",
    "                            .apply(int)"
   ]
  },
  {
   "cell_type": "code",
   "execution_count": 174,
   "metadata": {},
   "outputs": [],
   "source": [
    "#merged_data.to_csv('merged_data.csv', index=False)"
   ]
  },
  {
   "cell_type": "markdown",
   "metadata": {},
   "source": [
    "### 2. Визуализация данных"
   ]
  },
  {
   "cell_type": "code",
   "execution_count": 175,
   "metadata": {},
   "outputs": [
    {
     "data": {
      "image/png": "[encoded data removed]",
      "text/plain": [
       "<Figure size 1080x1584 with 11 Axes>"
      ]
     },
     "metadata": {
      "needs_background": "light"
     },
     "output_type": "display_data"
    }
   ],
   "source": [
    "fig, axes = plt.subplots(4, 3, figsize=(15, 22))\n",
    "\n",
    "# График 0,0 -----------------------------------------------------------------------------------------------------------\n",
    "ax_0 = sns.countplot(ax=axes[0, 0], \n",
    "                     x='group', \n",
    "                     data=merged_data, \n",
    "                     order=['A', 'B'])\n",
    "\n",
    "ax_0.bar_label(ax_0.containers[0])\n",
    "axes[0, 0].set_title('Groups population')\n",
    "\n",
    "# График 0,1 -----------------------------------------------------------------------------------------------------------\n",
    "sex_group = (merged_data.groupby('group')['sex']\n",
    "                .value_counts(normalize=True)\n",
    "                .mul(100)\n",
    "                .to_frame()\n",
    "                .rename(columns={'sex': 'sex_perc'})\n",
    "                .reset_index())\n",
    "\n",
    "ax_3 = sns.barplot(ax=axes[0, 1],                    \n",
    "                   x='group', \n",
    "                   y='sex_perc', \n",
    "                   hue='sex', \n",
    "                   data=sex_group)\n",
    "\n",
    "ax_3.bar_label(ax_3.containers[0])\n",
    "ax_3.bar_label(ax_3.containers[1])\n",
    "axes[0, 1].set_title('Users distribution by sex inside groups')\n",
    "axes[0, 1].set_ylabel('%') \n",
    "axes[0, 1].legend(loc='lower right')\n",
    "\n",
    "# График 0,2 -----------------------------------------------------------------------------------------------------------\n",
    "act_usr = merged_data.groupby(['group']).agg({'is_active': 'mean'}).mul(100)\n",
    "\n",
    "ax_7 = sns.barplot(ax=axes[0, 2], \n",
    "                   x=act_usr.index, \n",
    "                   y=act_usr.values.flatten(), \n",
    "                   order=['A', 'B'])\n",
    "\n",
    "ax_7.bar_label(ax_7.containers[0])\n",
    "axes[0, 2].set_title('Percent of active users in groups')\n",
    "axes[0, 2].set_ylabel('%')\n",
    "\n",
    "# График 1,0 -----------------------------------------------------------------------------------------------------------\n",
    "platf_group = (merged_data.groupby('group')['platform']\n",
    "                .value_counts(normalize = True)\n",
    "                .mul(100)\n",
    "                .to_frame()\n",
    "                .rename(columns={'platform': 'platform_perc'})\n",
    "                .reset_index())\n",
    "\n",
    "ax_1 = sns.barplot(ax=axes[1, 0], \n",
    "                   x='group', \n",
    "                   y='platform_perc', \n",
    "                   hue='platform', \n",
    "                   data=platf_group)\n",
    "\n",
    "ax_1.bar_label(ax_1.containers[0])\n",
    "ax_1.bar_label(ax_1.containers[1])\n",
    "axes[1, 0].set_title('Platforms distribution inside groups')\n",
    "axes[1, 0].set_ylabel('%')\n",
    "axes[1, 0].legend(loc='lower right')\n",
    "\n",
    "# График 1,1 -----------------------------------------------------------------------------------------------------------\n",
    "country_group = (merged_data.groupby('group')['country']\n",
    "                .value_counts(normalize = True)\n",
    "                .mul(100)\n",
    "                .to_frame()\n",
    "                .rename(columns = {'country': 'country_perc'})\n",
    "                .reset_index())\n",
    "\n",
    "ax_2 = sns.barplot(ax=axes[1, 1], \n",
    "                   x='group', \n",
    "                   y='country_perc', \n",
    "                   hue='country', \n",
    "                   data = country_group)\n",
    "\n",
    "ax_2.bar_label(ax_2.containers[0])\n",
    "ax_2.bar_label(ax_2.containers[1])\n",
    "axes[1, 1].set_title('Users distribution by countries inside groups')\n",
    "axes[1, 1].set_ylabel('%')\n",
    "axes[1, 1].legend(loc='lower right')\n",
    "\n",
    "# График 2,0 -----------------------------------------------------------------------------------------------------------\n",
    "ax_4 = sns.boxplot(ax=axes[2, 0], \n",
    "                   x='group', \n",
    "                   y='revenue', \n",
    "                   data=merged_data, \n",
    "                   order=['A', 'B'])\n",
    "\n",
    "axes[2, 0].set_title('Revenue in groups')\n",
    "\n",
    "# График 2,1 -----------------------------------------------------------------------------------------------------------\n",
    "ax_5 = sns.boxplot(ax=axes[2, 1], \n",
    "                   x='group', \n",
    "                   y='revenue', \n",
    "                   hue='platform', \n",
    "                   data=merged_data, \n",
    "                   order=['A', 'B'])\n",
    "\n",
    "axes[2, 1].set_title('Revenue by platforms in groups')\n",
    "\n",
    "# График 2,2 -----------------------------------------------------------------------------------------------------------\n",
    "ax_5 = sns.boxplot(ax=axes[2, 2], \n",
    "                   x='group', \n",
    "                   y='revenue', \n",
    "                   hue='country', \n",
    "                   data=merged_data, \n",
    "                   order=['A', 'B'])\n",
    "\n",
    "axes[2, 2].set_title('Revenue by countries in groups')\n",
    "\n",
    "# График 3,0 -----------------------------------------------------------------------------------------------------------\n",
    "perc_pay_usr = (merged_data[merged_data['revenue'].notnull()].groupby('group')['group'].count() / \\\n",
    "                merged_data.groupby('group')['group'].count() * 100)\n",
    "\n",
    "ax_6 = sns.barplot(ax=axes[3, 0], \n",
    "                   x=perc_pay_usr.index, \n",
    "                   y=perc_pay_usr.values, \n",
    "                   order=['A', 'B'])\n",
    "\n",
    "ax_6.bar_label(ax_6.containers[0])\n",
    "axes[3, 0].set_ylabel('%')\n",
    "axes[3, 0].set_title('Percent of paying users in groups')  \n",
    "\n",
    "# График 3,1 -----------------------------------------------------------------------------------------------------------\n",
    "perc_pay_platform = ((merged_data[merged_data['revenue'].notnull()].groupby(['group', 'platform'])['user_id'].count() /\n",
    "                    merged_data[merged_data['revenue'].notnull()].groupby('group')['user_id'].count() * 100)\n",
    "                    .to_frame()\n",
    "                    .reset_index()\n",
    "                    .rename(columns={'user_id': 'perc_in_platform'}))\n",
    "\n",
    "ax_8 = sns.barplot(ax=axes[3, 1], \n",
    "                   x='group', \n",
    "                   y='perc_in_platform', \n",
    "                   hue='platform', \n",
    "                   data = perc_pay_platform, \n",
    "                   order=['A', 'B'])\n",
    "\n",
    "ax_8.bar_label(ax_8.containers[0])\n",
    "ax_8.bar_label(ax_8.containers[1])\n",
    "axes[3, 1].set_title('Percent of paiments by platform in groups')\n",
    "axes[3, 1].set_ylabel('%')\n",
    "axes[3, 1].legend(loc='lower right')\n",
    "\n",
    "# График 3,2 ------------------------------------------------------------------------------------------------------------\n",
    "perc_pay_country = ((merged_data[merged_data['revenue'].notnull()].groupby(['group', 'country'])['user_id'].count() / \\\n",
    "                     merged_data[merged_data['revenue'].notnull()].groupby('group')['user_id'].count() * 100)\\\n",
    "                    .to_frame()\\\n",
    "                    .reset_index()\\\n",
    "                    .rename(columns={'user_id': 'perc_in_country'}))\n",
    "\n",
    "ax_9 = sns.barplot(ax=axes[3, 2], \n",
    "                   x='group', \n",
    "                   y='perc_in_country', \n",
    "                   hue='country', \n",
    "                   data=perc_pay_country, \n",
    "                   order=['A', 'B'])\n",
    "\n",
    "ax_9.bar_label(ax_9.containers[0])\n",
    "ax_9.bar_label(ax_9.containers[1])\n",
    "axes[3, 2].set_title('Percent of paying users by countries in groups')\n",
    "axes[3, 2].legend(loc='lower right')\n",
    "axes[3, 2].set_ylabel('%')\n",
    "\n",
    "fig.delaxes(ax=axes[1, 2])\n",
    "\n",
    "plt.show()"
   ]
  },
  {
   "cell_type": "markdown",
   "metadata": {},
   "source": [
    "### 3. Тестирование гипотез"
   ]
  },
  {
   "cell_type": "markdown",
   "metadata": {},
   "source": [
    "**Тестовой будет считаться группа B**\n",
    "\n",
    "При проведении исследования будут рассматриваться следующие метрики:\n",
    "\n",
    "- доля активных пользователей (для которых есть данные в таблице `active_users`, или для которых есть значение `revenue`)\n",
    "- доля платящих пользователей (для которых есть значение `revenue`)\n",
    "- средняя и медианная суммы оплат\n",
    "\n",
    "Для проверки удачности применения новой модели оплаты будет протестированы гипотезы о равенстве вышеперечсленных метрик в тестовой и контрольной группах.\n",
    "\n",
    "Т.к. по некоторым срезам данных не много будет дополнительно применяться Bootstrap для уменьшения ошибки."
   ]
  },
  {
   "cell_type": "markdown",
   "metadata": {},
   "source": [
    "###### 3.1 Гипотеза о равенстве пропорций активных пользователей в группах"
   ]
  },
  {
   "cell_type": "code",
   "execution_count": 176,
   "metadata": {},
   "outputs": [
    {
     "data": {
      "text/html": [
       "<div>\n",
       "<style scoped>\n",
       "    .dataframe tbody tr th:only-of-type {\n",
       "        vertical-align: middle;\n",
       "    }\n",
       "\n",
       "    .dataframe tbody tr th {\n",
       "        vertical-align: top;\n",
       "    }\n",
       "\n",
       "    .dataframe thead th {\n",
       "        text-align: right;\n",
       "    }\n",
       "</style>\n",
       "<table border=\"1\" class=\"dataframe\">\n",
       "  <thead>\n",
       "    <tr style=\"text-align: right;\">\n",
       "      <th></th>\n",
       "      <th>prop_active</th>\n",
       "      <th>num_in_group</th>\n",
       "    </tr>\n",
       "    <tr>\n",
       "      <th>group</th>\n",
       "      <th></th>\n",
       "      <th></th>\n",
       "    </tr>\n",
       "  </thead>\n",
       "  <tbody>\n",
       "    <tr>\n",
       "      <th>A</th>\n",
       "      <td>1567</td>\n",
       "      <td>14693</td>\n",
       "    </tr>\n",
       "    <tr>\n",
       "      <th>B</th>\n",
       "      <td>6923</td>\n",
       "      <td>59883</td>\n",
       "    </tr>\n",
       "  </tbody>\n",
       "</table>\n",
       "</div>"
      ],
      "text/plain": [
       "       prop_active  num_in_group\n",
       "group                           \n",
       "A             1567         14693\n",
       "B             6923         59883"
      ]
     },
     "execution_count": 176,
     "metadata": {},
     "output_type": "execute_result"
    }
   ],
   "source": [
    "# Число активныхпользователей в группах\n",
    "active_prop = (merged_data.groupby(['group'])\n",
    "               .agg(prop_active=('is_active', 'sum'), \n",
    "                    num_in_group=('is_active', 'count')))\n",
    "\n",
    "active_prop"
   ]
  },
  {
   "cell_type": "code",
   "execution_count": 177,
   "metadata": {},
   "outputs": [
    {
     "name": "stdout",
     "output_type": "stream",
     "text": [
      "p_value 0.0022 \n",
      "z_statistics -3.0639\n"
     ]
    }
   ],
   "source": [
    "# Z тест на равенство пропорций \n",
    "from statsmodels.stats.proportion import proportions_ztest\n",
    "\n",
    "z, p_value = proportions_ztest(active_prop.prop_active.values, \n",
    "                               active_prop.num_in_group.values)\n",
    "\n",
    "print(f'p_value {round(p_value, 4)} \\nz_statistics {round(z, 4)}')"
   ]
  },
  {
   "cell_type": "markdown",
   "metadata": {},
   "source": [
    "p-value оказался меньше 0,05, следовательно **есть статистически значимые различия между пропорциями**, а значение Z-статистики отрицательно, значит **доля активных пользователе в группе B (тестовая) больше, чем в группе A (контрольная).**"
   ]
  },
  {
   "cell_type": "markdown",
   "metadata": {},
   "source": [
    "##### 3.2 Гипотеза о равенстве пропорций платящих пользователей (случаев оплат) в группах"
   ]
  },
  {
   "cell_type": "code",
   "execution_count": 178,
   "metadata": {},
   "outputs": [
    {
     "name": "stdout",
     "output_type": "stream",
     "text": [
      "p_value 0.9644 \n",
      "z_statistics 0.0447\n"
     ]
    }
   ],
   "source": [
    "# Число платящих пользователей в группах\n",
    "pay_num = (merged_data[merged_data['revenue'].notnull()]\n",
    "           .groupby('group')['group']\n",
    "           .count()\n",
    "           .values)\n",
    "\n",
    "# Численность групп\n",
    "group_num = (merged_data.groupby('group')['group']\n",
    "             .count()\n",
    "             .values)\n",
    "\n",
    "# Z-тест на равенство пропорций\n",
    "z, p = proportions_ztest(pay_num, \n",
    "                         group_num)\n",
    "\n",
    "print(f'p_value {round(p, 4)} \\nz_statistics {round(z, 4)}')"
   ]
  },
  {
   "cell_type": "markdown",
   "metadata": {},
   "source": [
    "p-value больше 0,05, следовательно **статистически значимых различий нет. В группах не изменился процент случаев оплат.**"
   ]
  },
  {
   "cell_type": "markdown",
   "metadata": {},
   "source": [
    "##### 3.3 Гипотезы о равенстве средних и медианных оплат"
   ]
  },
  {
   "cell_type": "markdown",
   "metadata": {},
   "source": [
    "##### 3.3.1 Гипотезы о равенстве средних и медианных оплат между группами"
   ]
  },
  {
   "cell_type": "code",
   "execution_count": 179,
   "metadata": {},
   "outputs": [],
   "source": [
    "# Массивы c оплатами пользователей по разным группам\n",
    "revenue_A = merged_data[merged_data['group'] == 'A']['revenue'].dropna().values\n",
    "revenue_B = merged_data[merged_data['group'] == 'B']['revenue'].dropna().values"
   ]
  },
  {
   "cell_type": "code",
   "execution_count": 180,
   "metadata": {},
   "outputs": [
    {
     "data": {
      "text/plain": [
       "(659432.8930037558, 549032.9202414578)"
      ]
     },
     "execution_count": 180,
     "metadata": {},
     "output_type": "execute_result"
    }
   ],
   "source": [
    "# Дисперсии оплат\n",
    "revenue_A.std() ** 2, revenue_B.std() ** 2"
   ]
  },
  {
   "cell_type": "markdown",
   "metadata": {},
   "source": [
    "т.к. диспресии отличаются будет использоваться тест Уэлча"
   ]
  },
  {
   "cell_type": "code",
   "execution_count": 181,
   "metadata": {},
   "outputs": [
    {
     "name": "stdout",
     "output_type": "stream",
     "text": [
      "p_value 0.0047 \n",
      "t_statistics -2.8676\n"
     ]
    }
   ],
   "source": [
    "# тест Уэлча\n",
    "t_st, p_val = ttest_ind(revenue_A, \n",
    "                        revenue_B, \n",
    "                        equal_var=False)\n",
    "\n",
    "print(f'p_value {round(p_val, 4)} \\nt_statistics {round(t_st, 4)}')"
   ]
  },
  {
   "cell_type": "markdown",
   "metadata": {},
   "source": [
    "p_value меньше 0,05, значит **есть статистически значимые различия в средних платежах**. Значение статистики отрицательно, значит **среднее значение платежей группы B (тестовой) больше.**"
   ]
  },
  {
   "cell_type": "markdown",
   "metadata": {},
   "source": [
    "Для уточнения результатов теста Уэлча на исходных выборках будет использоваться Bootstrap. Будет исследоваться разность средних семплированных выборок. Долее будет строится доверительный интервал для разности средних. Если в него попадает 0 значит статистически значимых отличий в средних нет, в противном случае они есть. "
   ]
  },
  {
   "cell_type": "code",
   "execution_count": 182,
   "metadata": {},
   "outputs": [],
   "source": [
    "# Bootstrap\n",
    "DELTA_means = []\n",
    "means_rev_A = []\n",
    "means_rev_B = []\n",
    "\n",
    "DELTA_medians = []\n",
    "medians_rev_A = []\n",
    "medians_rev_B = []\n",
    "\n",
    "for i in range(10000):\n",
    "    sample_rev_A = np.random.choice(revenue_A, \n",
    "                         size=len(revenue_A), \n",
    "                         replace=True)\n",
    "    \n",
    "    sample_rev_B = np.random.choice(revenue_B, \n",
    "                         size=len(revenue_B), \n",
    "                         replace=True)\n",
    "    \n",
    "    mean_sample_rev_A = np.mean(sample_rev_A)\n",
    "    mean_sample_rev_B = np.mean(sample_rev_B)\n",
    "    \n",
    "    median_sample_rev_A = np.median(sample_rev_A)\n",
    "    median_sample_rev_B = np.median(sample_rev_B)\n",
    "    \n",
    "    delta_mean = mean_sample_rev_A - mean_sample_rev_B\n",
    "    delta_median = median_sample_rev_A - median_sample_rev_B\n",
    "    \n",
    "    means_rev_A.append(mean_sample_rev_A)\n",
    "    means_rev_B.append(mean_sample_rev_B)\n",
    "    medians_rev_A.append(median_sample_rev_A)\n",
    "    medians_rev_B.append(median_sample_rev_B)\n",
    "    DELTA_means.append(delta_mean)\n",
    "    DELTA_medians.append(delta_median)"
   ]
  },
  {
   "cell_type": "code",
   "execution_count": 183,
   "metadata": {},
   "outputs": [
    {
     "data": {
      "text/plain": [
       "(-247.83997859145114, -251.16892650351423)"
      ]
     },
     "execution_count": 183,
     "metadata": {},
     "output_type": "execute_result"
    }
   ],
   "source": [
    "# Доверительный интервал для разности средних оплат\n",
    "a = 0.95\n",
    "SE = np.std(DELTA_means) / np.sqrt(len(DELTA_means))\n",
    "T = t.ppf((1 - a) / 2, \n",
    "          len(DELTA_means) - 1)\n",
    "np.mean(DELTA_means) - SE * T, np.mean(DELTA_means) + SE * T"
   ]
  },
  {
   "cell_type": "markdown",
   "metadata": {},
   "source": [
    "0 не попадает в доверительный интервал, значит **различия в средних значениях суммы платежей есть**. Значения обеих границ доверительного интервала отрицательно, значит **среднее значение суммы платежей группы B (тестовой) больше.**"
   ]
  },
  {
   "cell_type": "code",
   "execution_count": 184,
   "metadata": {},
   "outputs": [
    {
     "data": {
      "image/png": "[encoded data removed]",
      "text/plain": [
       "<Figure size 360x360 with 1 Axes>"
      ]
     },
     "metadata": {
      "needs_background": "light"
     },
     "output_type": "display_data"
    }
   ],
   "source": [
    "# Распределение средгних сумм оплат семплированных выборок\n",
    "plt.figure(figsize=(5,5))\n",
    "sns.distplot(means_rev_A)\n",
    "sns.distplot(means_rev_B)\n",
    "plt.legend(['Group A', 'Group B'])\n",
    "plt.title('Means distribution')\n",
    "plt.show()"
   ]
  },
  {
   "cell_type": "markdown",
   "metadata": {},
   "source": [
    "Для проверки гипотезы о равенстве медиан оплат в группах будет использоватся медианных тест, а также дополнительно проверка попадание 0 в доверительный интервал разностей медиан групп из семплированных выборок"
   ]
  },
  {
   "cell_type": "code",
   "execution_count": 185,
   "metadata": {},
   "outputs": [
    {
     "name": "stdout",
     "output_type": "stream",
     "text": [
      "p_value 0.0 \n",
      "chi2_statistics 19960.025\n"
     ]
    }
   ],
   "source": [
    "# Медианный тест\n",
    "chi2, p = median_test(medians_rev_A, \n",
    "                      medians_rev_B)[0:2]\n",
    "\n",
    "print(f'p_value {round(p, 4)} \\nchi2_statistics {round(chi2, 4)}')"
   ]
  },
  {
   "cell_type": "markdown",
   "metadata": {},
   "source": [
    "p_value меньше 0,05, значит **есть статистически значимые различия в средних платежах.**"
   ]
  },
  {
   "cell_type": "code",
   "execution_count": 186,
   "metadata": {},
   "outputs": [
    {
     "data": {
      "text/plain": [
       "(-280.1350956094675, -283.55490439053256)"
      ]
     },
     "execution_count": 186,
     "metadata": {},
     "output_type": "execute_result"
    }
   ],
   "source": [
    "# Доверительный интервал для разности медиан сумм оплаты\n",
    "a = 0.95\n",
    "SE = np.std(DELTA_medians) / np.sqrt(len(DELTA_medians))\n",
    "T = t.ppf((1 - a) / 2, \n",
    "          len(DELTA_medians) - 1)\n",
    "np.mean(DELTA_medians) - SE * T, np.mean(DELTA_medians) + SE * T"
   ]
  },
  {
   "cell_type": "markdown",
   "metadata": {},
   "source": [
    "0 не попадает в доверительный интервал, значит **различия в медианных значениях платежей есть**. Значения обеих границ доверительного интервала отрицательно, значит **медианное значение платежей группы B (тестовой) больше.**"
   ]
  },
  {
   "cell_type": "code",
   "execution_count": 187,
   "metadata": {},
   "outputs": [
    {
     "data": {
      "image/png": "[encoded data removed]",
      "text/plain": [
       "<Figure size 360x360 with 1 Axes>"
      ]
     },
     "metadata": {
      "needs_background": "light"
     },
     "output_type": "display_data"
    }
   ],
   "source": [
    "# Распределение медиан сумм оплат семплированных выборок\n",
    "plt.figure(figsize=(5,5))\n",
    "sns.distplot(medians_rev_A)\n",
    "sns.distplot(medians_rev_B)\n",
    "plt.title('Medians distribution')\n",
    "plt.legend(['Group A', 'Group B'])\n",
    "plt.show()"
   ]
  },
  {
   "cell_type": "markdown",
   "metadata": {},
   "source": [
    "##### 3.3.1 Гипотеза о равенстве средних и медианных платежей по платформам между группами"
   ]
  },
  {
   "cell_type": "code",
   "execution_count": 188,
   "metadata": {},
   "outputs": [],
   "source": [
    "# Массивы с оплатами по группам и платформам\n",
    "rev_ios_A = merged_data[(merged_data['platform'] == 'ios') & \n",
    "                        (merged_data['group'] == 'A')]['revenue'].dropna().values\n",
    "\n",
    "rev_ios_B = merged_data[(merged_data['platform'] == 'ios') & \n",
    "                        (merged_data['group'] == 'B')]['revenue'].dropna().values\n",
    "\n",
    "rev_android_A = merged_data[(merged_data['platform'] == 'android') & \n",
    "                            (merged_data['group'] == 'A')]['revenue'].dropna().values\n",
    "\n",
    "rev_android_B = merged_data[(merged_data['platform'] == 'android') & \n",
    "                            (merged_data['group'] == 'B')]['revenue'].dropna().values"
   ]
  },
  {
   "cell_type": "code",
   "execution_count": 189,
   "metadata": {},
   "outputs": [
    {
     "data": {
      "text/plain": [
       "(39, 145, 39, 169)"
      ]
     },
     "execution_count": 189,
     "metadata": {},
     "output_type": "execute_result"
    }
   ],
   "source": [
    "# Размеры выборок\n",
    "len(rev_ios_A), len(rev_ios_B), len(rev_android_A), len(rev_android_B)"
   ]
  },
  {
   "cell_type": "code",
   "execution_count": 190,
   "metadata": {},
   "outputs": [
    {
     "data": {
      "text/plain": [
       "(874.1849183850561, 860.6780379963111)"
      ]
     },
     "execution_count": 190,
     "metadata": {},
     "output_type": "execute_result"
    }
   ],
   "source": [
    "# Дисперсии оплат по группам iOS\n",
    "rev_ios_A.std(), rev_ios_B.std()"
   ]
  },
  {
   "cell_type": "code",
   "execution_count": 191,
   "metadata": {},
   "outputs": [
    {
     "data": {
      "text/plain": [
       "(945.4872434610982, 721.1800471040671)"
      ]
     },
     "execution_count": 191,
     "metadata": {},
     "output_type": "execute_result"
    }
   ],
   "source": [
    "# Дисперсии оплат по группам android\n",
    "rev_android_A.std(), rev_android_B.std()"
   ]
  },
  {
   "cell_type": "markdown",
   "metadata": {},
   "source": [
    "Размеры выборок позволяют провести обычный t-тест, но т.к. диспперсии не одинаковы будет использоватся модификация Уэлча. Дополнительно гипотезы будут тестироватся с помощью построения доверительного интервала для разницы средних и медиан из семплированных (бутстрапированных) выборок."
   ]
  },
  {
   "cell_type": "code",
   "execution_count": 192,
   "metadata": {},
   "outputs": [],
   "source": [
    "# Bootstrap\n",
    "means_ios_A = []\n",
    "means_ios_B = []\n",
    "means_android_A = []\n",
    "means_android_B = []\n",
    "\n",
    "medians_ios_A = []\n",
    "medians_ios_B = []\n",
    "medians_android_A = []\n",
    "medians_android_B = []\n",
    "\n",
    "DELTA_means_ios = []\n",
    "DELTA_means_android = []\n",
    "DELTA_medians_ios = []\n",
    "DELTA_medians_android = []\n",
    "\n",
    "for i in range(10000):\n",
    "    ios_A = np.random.choice(rev_ios_A, \n",
    "                             size=len(rev_ios_A), \n",
    "                             replace=True)  \n",
    "    \n",
    "    ios_B = np.random.choice(rev_ios_B, \n",
    "                             size=len(rev_ios_B), \n",
    "                             replace=True)\n",
    "    \n",
    "    android_A = np.random.choice(rev_android_A, \n",
    "                                 size=len(rev_android_A), \n",
    "                                 replace=True)\n",
    "    \n",
    "    android_B = np.random.choice(rev_android_B, \n",
    "                                 size=len(rev_android_B), \n",
    "                                 replace=True)\n",
    "    \n",
    "    medians_ios_A.append(np.median(ios_A))\n",
    "    medians_ios_B.append(np.median(ios_B))\n",
    "    medians_android_A.append(np.median(android_A))\n",
    "    medians_android_B.append(np.median(android_B))\n",
    "    \n",
    "    delta_means_ios = np.mean(ios_A) - np.mean(ios_B)\n",
    "    delta_means_android = np.mean(android_A) - np.mean(android_B)\n",
    "    delta_medians_ios = np.median(ios_A) - np.median(ios_B)\n",
    "    delta_medians_android = np.median(android_A) - np.median(android_B)    \n",
    "    \n",
    "    \n",
    "    DELTA_means_ios.append(delta_means_ios)\n",
    "    DELTA_means_android.append(delta_means_android)\n",
    "    DELTA_medians_ios.append(delta_medians_ios)\n",
    "    DELTA_medians_android.append(delta_medians_android)"
   ]
  },
  {
   "cell_type": "markdown",
   "metadata": {},
   "source": [
    "$$ mean\\:revenue\\:iOS\\:(A) - mean\\:revenue\\:iOS\\:(B) $$\n",
    "$$ mean\\:revenue\\:android\\:(A) - mean\\:android\\:iOS\\:(B) $$"
   ]
  },
  {
   "cell_type": "code",
   "execution_count": 193,
   "metadata": {
    "scrolled": true
   },
   "outputs": [
    {
     "name": "stdout",
     "output_type": "stream",
     "text": [
      "p_value 0.0069 \n",
      "t_statistics -2.8007\n"
     ]
    }
   ],
   "source": [
    "# Тест Уэлча для средних оплат в группах iOS\n",
    "t_st, p_val = ttest_ind(rev_ios_A, \n",
    "                        rev_ios_B, \n",
    "                        equal_var=False)\n",
    "\n",
    "print(f'p_value {round(p_val, 4)} \\nt_statistics {round(t_st, 4)}')"
   ]
  },
  {
   "cell_type": "markdown",
   "metadata": {},
   "source": [
    "p_value меньше 0,05, значит **есть статистически значимые различия в средних платежах для платформы iOS**. Значение статистики отрицательно, значит **среднее значение платежей группы B (тестовой) больше.**"
   ]
  },
  {
   "cell_type": "code",
   "execution_count": 194,
   "metadata": {},
   "outputs": [
    {
     "data": {
      "text/plain": [
       "(-445.1342072383035, -451.2587803125365)"
      ]
     },
     "execution_count": 194,
     "metadata": {},
     "output_type": "execute_result"
    }
   ],
   "source": [
    "# Доверительный интервал для разности средних оплат iOS\n",
    "a = 0.95\n",
    "SE = np.std(DELTA_means_ios) / np.sqrt(len(DELTA_means_ios))\n",
    "T = t.ppf((1 - a) / 2, \n",
    "          len(DELTA_means_ios) - 1)\n",
    "np.mean(DELTA_means_ios) - SE * T, np.mean(DELTA_means_ios) + SE * T"
   ]
  },
  {
   "cell_type": "markdown",
   "metadata": {},
   "source": [
    "0 не попадает в доверительный интервал, значит **различия в средних значениях платежей для iOS есть**. Значения обеих границ доверительного интервала отрицательно, значит **среднее значение платежей на платформе iOS в группе B (тестовой) больше.**"
   ]
  },
  {
   "cell_type": "code",
   "execution_count": 195,
   "metadata": {},
   "outputs": [
    {
     "data": {
      "image/png": "[encoded data removed]",
      "text/plain": [
       "<Figure size 1080x360 with 2 Axes>"
      ]
     },
     "metadata": {
      "needs_background": "light"
     },
     "output_type": "display_data"
    }
   ],
   "source": [
    "# Распределение исходных выборок (оплаты в группах с платформой android)\n",
    "fig, axes = plt.subplots(1, 2, figsize=(15, 5))\n",
    "\n",
    "ax_0 = sns.distplot(rev_android_A, ax=axes[0])\n",
    "ax_1 = sns.distplot(rev_android_B, ax=axes[1])\n",
    "\n",
    "axes[0].set_title('Revenue group A distribution')\n",
    "axes[1].set_title('Revenue group B distribution')\n",
    "\n",
    "plt.show()"
   ]
  },
  {
   "cell_type": "code",
   "execution_count": 196,
   "metadata": {
    "scrolled": true
   },
   "outputs": [
    {
     "name": "stdout",
     "output_type": "stream",
     "text": [
      "p_value 0.2054 \n",
      "t_statistics -1.2835\n"
     ]
    }
   ],
   "source": [
    "# Тест Уэлча для средних оплат в группах android\n",
    "t_st, p_val = ttest_ind(rev_android_A, \n",
    "                        rev_android_B, \n",
    "                        equal_var=False)\n",
    "\n",
    "print(f'p_value {round(p_val, 4)} \\nt_statistics {round(t_st, 4)}')"
   ]
  },
  {
   "cell_type": "markdown",
   "metadata": {},
   "source": [
    "p_value ,больше 0,05, значит **статистически значимых различий в средних платежах для платформы android нет**."
   ]
  },
  {
   "cell_type": "code",
   "execution_count": 197,
   "metadata": {},
   "outputs": [
    {
     "data": {
      "image/png": "[encoded data removed]",
      "text/plain": [
       "<Figure size 504x360 with 1 Axes>"
      ]
     },
     "metadata": {
      "needs_background": "light"
     },
     "output_type": "display_data"
    }
   ],
   "source": [
    "# Распределение разностей средних бутстрапированых выборок (оплаты в группах с платформой android)\n",
    "plt.figure(figsize=(7, 5))\n",
    "sns.distplot(DELTA_means_android)\n",
    "plt.title('Means delta of bootstrap samples distribution')\n",
    "plt.show()"
   ]
  },
  {
   "cell_type": "code",
   "execution_count": 198,
   "metadata": {},
   "outputs": [
    {
     "data": {
      "text/plain": [
       "(-201.56325641479614, -207.98124891064768)"
      ]
     },
     "execution_count": 198,
     "metadata": {},
     "output_type": "execute_result"
    }
   ],
   "source": [
    "# Доверительный интервал для разности средних оплат android\n",
    "a = 0.95\n",
    "SE = np.std(DELTA_means_android) / np.sqrt(len(DELTA_means_android))\n",
    "T = t.ppf((1 - a) / 2, \n",
    "          len(DELTA_means_android) - 1)\n",
    "np.mean(DELTA_means_android) - SE * T, np.mean(DELTA_means_android) + SE * T"
   ]
  },
  {
   "cell_type": "markdown",
   "metadata": {},
   "source": [
    "0 не попадает в доверительный интервал, значит **различия в средних значениях платежей для android есть**. Значения обеих границ доверительного интервала отрицательно, значит **среднее значение платежей на платформе android в группе B (тестовой) больше.**"
   ]
  },
  {
   "cell_type": "markdown",
   "metadata": {},
   "source": [
    "Т.к. распределение исходных выборок далеко от нормального, то будем доверять результату бутстрапа, **т.е. средние значеия оплаты для android в группах имеют стат.значимые различия, и для группы B (тестовой) среднее значение платежей больше.**"
   ]
  },
  {
   "cell_type": "markdown",
   "metadata": {},
   "source": [
    "$$ median\\:revenue\\:iOS\\:(A) - median\\:revenue\\:iOS\\:(B) $$\n",
    "$$ median\\:revenue\\:android\\:(A) - median\\:android\\:iOS\\:(B) $$"
   ]
  },
  {
   "cell_type": "code",
   "execution_count": 199,
   "metadata": {
    "scrolled": true
   },
   "outputs": [
    {
     "name": "stdout",
     "output_type": "stream",
     "text": [
      "p_value 0.0 \n",
      "chi2_statistics 19318.4193\n"
     ]
    }
   ],
   "source": [
    "# Медианный тест для iOS\n",
    "chi2, p = median_test(medians_ios_A, \n",
    "                      medians_ios_B)[0:2]\n",
    "\n",
    "print(f'p_value {round(p, 4)} \\nchi2_statistics {round(chi2, 4)}')"
   ]
  },
  {
   "cell_type": "markdown",
   "metadata": {},
   "source": [
    "p_value меньше 0,05, значит **есть статистически значимые различия в медианных значениях платежей на платформе iOS.**"
   ]
  },
  {
   "cell_type": "code",
   "execution_count": 200,
   "metadata": {},
   "outputs": [
    {
     "data": {
      "text/plain": [
       "(-818.0567466070529, -832.236053392947)"
      ]
     },
     "execution_count": 200,
     "metadata": {},
     "output_type": "execute_result"
    }
   ],
   "source": [
    "# Доверительный интервал для разности медианных оплат iOS\n",
    "from scipy.stats import t\n",
    "a = 0.95\n",
    "SE = np.std(DELTA_medians_ios) / np.sqrt(len(DELTA_medians_ios))\n",
    "T = t.ppf((1 - a) / 2, \n",
    "          len(DELTA_medians_ios) - 1)\n",
    "np.mean(DELTA_medians_ios) - SE * T, np.mean(DELTA_medians_ios) + SE * T"
   ]
  },
  {
   "cell_type": "markdown",
   "metadata": {},
   "source": [
    "0 не попадает в доверительный интервал, значит **различия в медианных значениях платежей для платформы iOS есть**. Значения обеих границ доверительного интервала отрицательно, значит **среднее значение платежей на платформе iOS в группе B (тестовой) больше.**"
   ]
  },
  {
   "cell_type": "code",
   "execution_count": 201,
   "metadata": {},
   "outputs": [
    {
     "name": "stdout",
     "output_type": "stream",
     "text": [
      "p_value 0.0 \n",
      "chi2_statistics 16516.4902\n"
     ]
    }
   ],
   "source": [
    "# Медианный тест для android\n",
    "chi2, p = median_test(medians_android_A, \n",
    "                      medians_android_B)[0:2]\n",
    "\n",
    "print(f'p_value {round(p, 4)} \\nchi2_statistics {round(chi2, 4)}')"
   ]
  },
  {
   "cell_type": "markdown",
   "metadata": {},
   "source": [
    "p_value меньше 0,05, значит **есть статистически значимые различия в медианных значениях платежей на платформе android.**"
   ]
  },
  {
   "cell_type": "code",
   "execution_count": 202,
   "metadata": {},
   "outputs": [
    {
     "data": {
      "text/plain": [
       "(-622.185300775862, -636.532099224138)"
      ]
     },
     "execution_count": 202,
     "metadata": {},
     "output_type": "execute_result"
    }
   ],
   "source": [
    "# Доверительный интервал для разности медианных оплат android\n",
    "a = 0.95\n",
    "SE = np.std(DELTA_medians_android) / np.sqrt(len(DELTA_medians_android))\n",
    "T = t.ppf((1 - a) / 2, \n",
    "          len(DELTA_medians_android) - 1)\n",
    "np.mean(DELTA_medians_android) - SE * T, np.mean(DELTA_medians_android) + SE * T"
   ]
  },
  {
   "cell_type": "markdown",
   "metadata": {},
   "source": [
    "0 не попадает в доверительный интервал, значит **различия в медианных значениях платежей для платформы android есть**. Значения обеих границ доверительного интервала отрицательно, значит **медианное значение платежей на платформе android в группе B (тестовой) больше.**"
   ]
  },
  {
   "cell_type": "markdown",
   "metadata": {},
   "source": [
    "Во всех случаях **есть статистически значимые различия в средних и медианных значниях сумм оплаты по платформам между группами.** Во всех случаях **для группы B (тестовая) исследуемые величины больше, чем для группы A (контрольная).**"
   ]
  },
  {
   "cell_type": "markdown",
   "metadata": {},
   "source": [
    "##### 3.3.2 Гипотеза о равенстве средних и медианных платежей по странам между группами"
   ]
  },
  {
   "cell_type": "code",
   "execution_count": 203,
   "metadata": {},
   "outputs": [],
   "source": [
    "# Массивы с оплатами по группам и странам\n",
    "rev_rus_A = merged_data[(merged_data['country'] == 'Russia') & \n",
    "                        (merged_data['group'] == 'A')]['revenue'].dropna().values\n",
    "\n",
    "rev_rus_B = merged_data[(merged_data['country'] == 'Russia') & \n",
    "                        (merged_data['group'] == 'B')]['revenue'].dropna().values\n",
    "\n",
    "rev_swe_A = merged_data[(merged_data['country'] == 'Sweden') & \n",
    "                        (merged_data['group'] == 'A')]['revenue'].dropna().values\n",
    "\n",
    "rev_swe_B = merged_data[(merged_data['country'] == 'Sweden') & \n",
    "                         (merged_data['group'] == 'B')]['revenue'].dropna().values"
   ]
  },
  {
   "cell_type": "code",
   "execution_count": 204,
   "metadata": {},
   "outputs": [
    {
     "data": {
      "text/plain": [
       "(43, 197, 35, 117)"
      ]
     },
     "execution_count": 204,
     "metadata": {},
     "output_type": "execute_result"
    }
   ],
   "source": [
    "# Размеры выборок\n",
    "len(rev_rus_A), len(rev_rus_B), len(rev_swe_A), len(rev_swe_B)"
   ]
  },
  {
   "cell_type": "code",
   "execution_count": 205,
   "metadata": {},
   "outputs": [
    {
     "data": {
      "text/plain": [
       "(608870.8015143321, 592541.4851709655)"
      ]
     },
     "execution_count": 205,
     "metadata": {},
     "output_type": "execute_result"
    }
   ],
   "source": [
    "# Дисперсии оплат по России\n",
    "rev_rus_A.std() ** 2, rev_rus_B.std() ** 2"
   ]
  },
  {
   "cell_type": "code",
   "execution_count": 206,
   "metadata": {},
   "outputs": [
    {
     "data": {
      "text/plain": [
       "(1074155.684897959, 663107.1274746148)"
      ]
     },
     "execution_count": 206,
     "metadata": {},
     "output_type": "execute_result"
    }
   ],
   "source": [
    "# Дисперсии оплат по Швеции\n",
    "rev_swe_A.std() ** 2, rev_swe_B.std() ** 2"
   ]
  },
  {
   "cell_type": "markdown",
   "metadata": {},
   "source": [
    "Размеры выборок позволяют провести обычный t-тест, но т.к. диспперсии не одинаковы будет использоватся модификация Уэлча. Дополнительно гипотезы будут тестироватся с помощью построения доверительного интервала для разницы средних и медиан из семплированных выборок."
   ]
  },
  {
   "cell_type": "code",
   "execution_count": 207,
   "metadata": {},
   "outputs": [],
   "source": [
    "# Bootstrap \n",
    "means_rus_A = []\n",
    "means_rus_B = []\n",
    "means_swe_A = []\n",
    "means_swe_B = []\n",
    "\n",
    "medians_rus_A = []\n",
    "medians_rus_B = []\n",
    "medians_swe_A = []\n",
    "medians_swe_B = []\n",
    "\n",
    "DELTA_means_rus = []\n",
    "DELTA_means_swe = []\n",
    "DELTA_medians_rus = []\n",
    "DELTA_medians_swe = []\n",
    "\n",
    "for i in range(10000):\n",
    "    rus_A = np.random.choice(rev_rus_A, \n",
    "                             size=len(rev_rus_A), \n",
    "                             replace=True) \n",
    "    \n",
    "    rus_B = np.random.choice(rev_rus_B, \n",
    "                             size=len(rev_rus_B), \n",
    "                             replace=True)\n",
    "    \n",
    "    swe_A = np.random.choice(rev_swe_A, \n",
    "                             size=len(rev_swe_A), \n",
    "                             replace=True)\n",
    "    \n",
    "    swe_B = np.random.choice(rev_swe_B, \n",
    "                             size=len(rev_swe_B), \n",
    "                             replace=True)\n",
    "    \n",
    "    means_rus_A.append(np.mean(rus_A))\n",
    "    means_rus_B.append(np.mean(rus_B))\n",
    "    means_swe_A.append(np.mean(swe_A))\n",
    "    means_swe_B.append(np.mean(swe_B))\n",
    "      \n",
    "    medians_rus_A.append(np.median(rus_A))\n",
    "    medians_rus_B.append(np.median(rus_B))\n",
    "    medians_swe_A.append(np.median(swe_A))\n",
    "    medians_swe_B.append(np.median(swe_B))\n",
    "    \n",
    "    delta_means_rus = np.mean(rus_A) - np.mean(rus_B)\n",
    "    delta_means_swe = np.mean(swe_A) - np.mean(swe_B)\n",
    "    \n",
    "    delta_medians_rus = np.median(rus_A) - np.median(rus_B)\n",
    "    delta_medians_swe = np.median(swe_A) - np.median(swe_B)\n",
    "    \n",
    "    DELTA_means_rus.append(delta_means_rus)\n",
    "    DELTA_means_swe.append(delta_means_swe)\n",
    "    DELTA_medians_rus.append(delta_medians_rus)\n",
    "    DELTA_medians_swe.append(delta_medians_swe)"
   ]
  },
  {
   "cell_type": "markdown",
   "metadata": {},
   "source": [
    "$$ mean\\:revenue\\:Russia\\:(A) - mean\\:revenue\\:Russia\\:(B) $$\n",
    "$$ mean\\:revenue\\:Sweden\\:(A) - mean\\:android\\:Sweden\\:(B) $$"
   ]
  },
  {
   "cell_type": "code",
   "execution_count": 208,
   "metadata": {
    "scrolled": true
   },
   "outputs": [
    {
     "name": "stdout",
     "output_type": "stream",
     "text": [
      "p_value 0.0 \n",
      "t_statistics -301.0171\n"
     ]
    }
   ],
   "source": [
    "# Тест Уэлча для средних оплат между группами в России\n",
    "t_st, p_val = ttest_ind(means_rus_A, \n",
    "                        means_rus_B, \n",
    "                        equal_var=False)\n",
    "\n",
    "print(f'p_value {round(p_val, 4)} \\nt_statistics {round(t_st, 4)}')"
   ]
  },
  {
   "cell_type": "markdown",
   "metadata": {},
   "source": [
    "p_value меньше 0,05, значит **есть статистически значимые различия в средних платежах по России**. Значение статистики отрицательно, значит **среднее значение платежей группы B (тестовой) больше.**"
   ]
  },
  {
   "cell_type": "code",
   "execution_count": 209,
   "metadata": {},
   "outputs": [
    {
     "data": {
      "text/plain": [
       "(-391.27444365670317, -396.404345884083)"
      ]
     },
     "execution_count": 209,
     "metadata": {},
     "output_type": "execute_result"
    }
   ],
   "source": [
    "# Доверительный интервал для разности средних оплат по России\n",
    "a = 0.95\n",
    "SE = np.std(DELTA_means_rus) / np.sqrt(len(DELTA_means_rus))\n",
    "T = t.ppf((1 - a) / 2, \n",
    "          len(DELTA_means_rus) - 1)\n",
    "np.mean(DELTA_means_rus) - SE * T, np.mean(DELTA_means_rus) + SE * T"
   ]
  },
  {
   "cell_type": "markdown",
   "metadata": {},
   "source": [
    "0 не попадает в доверительный интервал, значит **различия в средних значениях платежей по России есть**. Значения обеих границ доверительного интервала отрицательно, значит **среднее значение платежей по России в группе B (тестовой) больше.**"
   ]
  },
  {
   "cell_type": "code",
   "execution_count": 210,
   "metadata": {
    "scrolled": true
   },
   "outputs": [
    {
     "name": "stdout",
     "output_type": "stream",
     "text": [
      "p_value 0.0 \n",
      "t_statistics -136.8624\n"
     ]
    }
   ],
   "source": [
    "# Тест Уэлча для средних оплат между группами в Швеции\n",
    "t_st, p_val = ttest_ind(means_swe_A, \n",
    "                        means_swe_B, \n",
    "                        equal_var=False)\n",
    "\n",
    "print(f'p_value {round(p_val, 4)} \\nt_statistics {round(t_st, 4)}')"
   ]
  },
  {
   "cell_type": "markdown",
   "metadata": {},
   "source": [
    "p_value меньше 0,05, значит **есть статистически значимые различия в средних платежах по Швеции**. Значение статистики отрицательно, значит **среднее значение платежей группы B (тестовой) больше.**"
   ]
  },
  {
   "cell_type": "code",
   "execution_count": 211,
   "metadata": {},
   "outputs": [
    {
     "data": {
      "text/plain": [
       "(-259.76757336720823, -267.32715947772465)"
      ]
     },
     "execution_count": 211,
     "metadata": {},
     "output_type": "execute_result"
    }
   ],
   "source": [
    "# Доверительный интервал для разности средних оплат по Швеции\n",
    "a = 0.95\n",
    "SE = np.std(DELTA_means_swe) / np.sqrt(len(DELTA_means_swe))\n",
    "T = t.ppf((1 - a) / 2, \n",
    "          len(DELTA_means_swe) - 1)\n",
    "np.mean(DELTA_means_swe) - SE * T, np.mean(DELTA_means_swe) + SE * T"
   ]
  },
  {
   "cell_type": "markdown",
   "metadata": {},
   "source": [
    "0 не попадает в доверительный интервал, значит **различия в средних значениях платежей по Швеции есть**. Значения обеих границ доверительного интервала отрицательно, значит **среднее значение платежей по Швеции в группе B (тестовой) больше.**"
   ]
  },
  {
   "cell_type": "markdown",
   "metadata": {},
   "source": [
    "$$ median\\:revenue\\:Russia\\:(A) - median\\:revenue\\:Russia\\:(B) $$\n",
    "$$ median\\:revenue\\:Sweden\\:(A) - median\\:android\\:Sweden\\:(B) $$"
   ]
  },
  {
   "cell_type": "code",
   "execution_count": 212,
   "metadata": {
    "scrolled": true
   },
   "outputs": [
    {
     "name": "stdout",
     "output_type": "stream",
     "text": [
      "p_value 0.0 \n",
      "chi2_statistics 19286.4848\n"
     ]
    }
   ],
   "source": [
    "# Медианный тест для России\n",
    "chi2, p = median_test(medians_rus_A, \n",
    "                      medians_rus_B)[0:2]\n",
    "\n",
    "print(f'p_value {round(p, 4)} \\nchi2_statistics {round(chi2, 4)}')"
   ]
  },
  {
   "cell_type": "markdown",
   "metadata": {},
   "source": [
    "p_value меньше 0,05, значит **есть статистически значимые различия в медианных значениях платежей по России.**"
   ]
  },
  {
   "cell_type": "code",
   "execution_count": 213,
   "metadata": {},
   "outputs": [
    {
     "data": {
      "text/plain": [
       "(-555.3202690908723, -564.4407309091276)"
      ]
     },
     "execution_count": 213,
     "metadata": {},
     "output_type": "execute_result"
    }
   ],
   "source": [
    "# Доверительный интервал для разности медианных оплат по России\n",
    "a = 0.95\n",
    "SE = np.std(DELTA_medians_rus) / np.sqrt(len(DELTA_medians_rus))\n",
    "T = t.ppf((1 - a) / 2, \n",
    "          len(DELTA_medians_rus) - 1)\n",
    "np.mean(DELTA_medians_rus) - SE * T, np.mean(DELTA_medians_rus) + SE * T"
   ]
  },
  {
   "cell_type": "markdown",
   "metadata": {},
   "source": [
    "0 не попадает в доверительный интервал, значит **различия в медианных значениях платежей по России есть**. Значения обеих границ доверительного интервала отрицательно, значит **медианное значение платежей по России в группе B (тестовой) больше.**"
   ]
  },
  {
   "cell_type": "code",
   "execution_count": 214,
   "metadata": {},
   "outputs": [
    {
     "name": "stdout",
     "output_type": "stream",
     "text": [
      "p_value 0.0 \n",
      "chi2_statistics 17444.8607\n"
     ]
    }
   ],
   "source": [
    "# Медианный тест для Швеции\n",
    "chi2, p = median_test(medians_swe_A, \n",
    "                      medians_swe_B)[0:2]\n",
    "\n",
    "print(f'p_value {round(p, 4)} \\nchi2_statistics {round(chi2, 4)}')"
   ]
  },
  {
   "cell_type": "markdown",
   "metadata": {},
   "source": [
    "p_value меньше 0,05, значит **есть статистически значимые различия в медианных значениях платежей по Швеции.**"
   ]
  },
  {
   "cell_type": "code",
   "execution_count": 215,
   "metadata": {},
   "outputs": [
    {
     "data": {
      "text/plain": [
       "(-1030.7924818381287, -1045.8377181618714)"
      ]
     },
     "execution_count": 215,
     "metadata": {},
     "output_type": "execute_result"
    }
   ],
   "source": [
    "# Доверительный интервал для разности медианных оплат по Швеции\n",
    "a = 0.95\n",
    "SE = np.std(DELTA_medians_swe) / np.sqrt(len(DELTA_medians_swe))\n",
    "T = t.ppf((1 - a) / 2, \n",
    "          len(DELTA_medians_swe) - 1)\n",
    "np.mean(DELTA_medians_swe) - SE * T, np.mean(DELTA_medians_swe) + SE * T"
   ]
  },
  {
   "cell_type": "markdown",
   "metadata": {},
   "source": [
    "0 не попадает в доверительный интервал, значит **различия в медианных значениях платежей по Швеции есть**. Значения обеих границ доверительного интервала отрицательно, значит **медианное значение платежей по Швеции в группе B (тестовой) больше.**"
   ]
  },
  {
   "cell_type": "markdown",
   "metadata": {},
   "source": [
    "Во всех случаях **есть статистически значимые различия в средних и медианных значниях сумм оплаты по странам между группами.** Во всех случаях **для группы B (тестовая) исследуемые величины больше, чем для группы A (контрольная).**"
   ]
  },
  {
   "cell_type": "markdown",
   "metadata": {},
   "source": [
    "##### 3.4 Гипотезы о равенстве пропорций платящих пользователей"
   ]
  },
  {
   "cell_type": "markdown",
   "metadata": {},
   "source": [
    "##### 3.4.1 Гипотезы о равенстве пропорций платящих пользователей (случаев оплаты) по платформам между группами"
   ]
  },
  {
   "cell_type": "markdown",
   "metadata": {},
   "source": [
    "$$ \\%\\:paying\\:users\\:iOS\\:(A) - \\%\\:paying\\:users\\:iOS\\:(B) $$\n",
    " \n",
    "$$ \\%\\:paying\\:users\\:Android\\:(A) - \\%\\:paying\\:users\\:Android\\:(B) $$"
   ]
  },
  {
   "cell_type": "code",
   "execution_count": 216,
   "metadata": {},
   "outputs": [],
   "source": [
    "# Количество платящих пользователей с платформой iOS в группах\n",
    "pay_ios_A = merged_data[(merged_data['platform'] == 'ios') & \n",
    "                        (merged_data['group'] == 'A')]['revenue'].count()\n",
    "\n",
    "pay_ios_B = merged_data[(merged_data['platform'] == 'ios') & \n",
    "                        (merged_data['group'] == 'B')]['revenue'].count()\n",
    "\n",
    "# Количество пользователей с платформой iOS в группах \n",
    "ios_A = merged_data[(merged_data['platform'] == 'ios') & \n",
    "                    (merged_data['group'] == 'A')]['user_id'].count()\n",
    "\n",
    "ios_B = merged_data[(merged_data['platform'] == 'ios') & \n",
    "                    (merged_data['group'] == 'B')]['user_id'].count()\n",
    "\n",
    "# Количество платящих пользователей с платформой android в группах \n",
    "pay_android_A = merged_data[(merged_data['platform'] == 'android') & \n",
    "                            (merged_data['group'] == 'A')]['revenue'].count()\n",
    "\n",
    "pay_android_B = merged_data[(merged_data['platform'] == 'android') & \n",
    "                            (merged_data['group'] == 'B')]['revenue'].count()\n",
    "\n",
    "# Количество пользователей с платформой android в группах\n",
    "android_A = merged_data[(merged_data['platform'] == 'android') & \n",
    "                        (merged_data['group'] == 'A')]['user_id'].count()\n",
    "\n",
    "android_B = merged_data[(merged_data['platform'] == 'android') & \n",
    "                        (merged_data['group'] == 'B')]['user_id'].count()"
   ]
  },
  {
   "cell_type": "code",
   "execution_count": 217,
   "metadata": {},
   "outputs": [
    {
     "name": "stdout",
     "output_type": "stream",
     "text": [
      "p_value 0.4199 \n",
      "z_statistics 0.8066\n"
     ]
    }
   ],
   "source": [
    "# Z-тест на равенство пропорций платящих пользователей с платформой iOS в группах\n",
    "z, p = proportions_ztest([pay_ios_A, pay_ios_B], \n",
    "                         [ios_A, ios_B])\n",
    "\n",
    "print(f'p_value {round(p, 4)} \\nz_statistics {round(z, 4)}')"
   ]
  },
  {
   "cell_type": "code",
   "execution_count": 218,
   "metadata": {},
   "outputs": [
    {
     "name": "stdout",
     "output_type": "stream",
     "text": [
      "p_value 0.7876 \n",
      "z_statistics 0.2694\n"
     ]
    }
   ],
   "source": [
    "# Z-тест на равенство пропорций платящих пользователей с платформой android в группах\n",
    "z, p = proportions_ztest([pay_android_A, pay_android_B], \n",
    "                         [android_A, android_B])\n",
    "\n",
    "print(f'p_value {round(p, 4)} \\nz_statistics {round(z, 4)}')"
   ]
  },
  {
   "cell_type": "markdown",
   "metadata": {},
   "source": [
    "Во всех случаях p-value больше 0.05, следовательно **статистически значимых различий между пропорциями платящих пользователей между группами, как по платформам, так по странам нет.**"
   ]
  },
  {
   "cell_type": "markdown",
   "metadata": {},
   "source": [
    "##### 3.4.2 Гипотезы о равенстве пропорций платящих пользователей (случаев оплаты) по странам между группами"
   ]
  },
  {
   "cell_type": "code",
   "execution_count": 219,
   "metadata": {},
   "outputs": [],
   "source": [
    "# Количество платящих пользователей в России по группам\n",
    "pay_rus_A = merged_data[(merged_data['country'] == 'Russia') & \n",
    "                        (merged_data['group'] == 'A')]['revenue'].count()\n",
    "\n",
    "pay_rus_B = merged_data[(merged_data['country'] == 'Russia') & \n",
    "                        (merged_data['group'] == 'B')]['revenue'].count()\n",
    "\n",
    "# Количество пользователей в России по группам\n",
    "rus_A = merged_data[(merged_data['country'] == 'Russia') & \n",
    "                    (merged_data['group'] == 'A')]['user_id'].count()\n",
    "\n",
    "rus_B = merged_data[(merged_data['country'] == 'Russia') & \n",
    "                    (merged_data['group'] == 'B')]['user_id'].count()\n",
    "\n",
    "# Количество платящих пользователей в Швеции по группам\n",
    "pay_swe_A = merged_data[(merged_data['country'] == 'Sweden') & \n",
    "                        (merged_data['group'] == 'A')]['revenue'].count()\n",
    "\n",
    "pay_swe_B = merged_data[(merged_data['country'] == 'Sweden') & \n",
    "                        (merged_data['group'] == 'B')]['revenue'].count()\n",
    "\n",
    "# Количество пользователей в Швеции по группам\n",
    "swe_A = merged_data[(merged_data['country'] == 'Sweden') & \n",
    "                    (merged_data['group'] == 'A')]['user_id'].count()\n",
    "\n",
    "swe_B = merged_data[(merged_data['country'] == 'Sweden') & \n",
    "                    (merged_data['group'] == 'B')]['user_id'].count()"
   ]
  },
  {
   "cell_type": "code",
   "execution_count": 220,
   "metadata": {},
   "outputs": [
    {
     "name": "stdout",
     "output_type": "stream",
     "text": [
      "p_value 0.6743 \n",
      "z_statistics 0.4202\n"
     ]
    }
   ],
   "source": [
    "# Z-тест на равенство пропорций платящих пользователей в группах в России \n",
    "z, p = proportions_ztest([pay_rus_A, pay_rus_B], \n",
    "                         [rus_A, rus_B])\n",
    "\n",
    "print(f'p_value {round(p, 4)} \\nz_statistics {round(z, 4)}')"
   ]
  },
  {
   "cell_type": "code",
   "execution_count": 221,
   "metadata": {},
   "outputs": [
    {
     "name": "stdout",
     "output_type": "stream",
     "text": [
      "p_value 0.5789 \n",
      "z_statistics 0.5549\n"
     ]
    }
   ],
   "source": [
    "# Z-тест на равенство пропорций платящих пользователей в группах в Швеции \n",
    "z, p = proportions_ztest([pay_swe_A, pay_swe_B], \n",
    "                         [swe_A, swe_B])\n",
    "\n",
    "print(f'p_value {round(p, 4)} \\nz_statistics {round(z, 4)}')"
   ]
  },
  {
   "cell_type": "markdown",
   "metadata": {},
   "source": [
    "Во всех случаях p-value больше 0.05, следовательно **статистически значимых различий между пропорциями платящих пользователей между группами, как по странам, так по странам нет.**"
   ]
  },
  {
   "cell_type": "markdown",
   "metadata": {},
   "source": [
    "### Вывод по тестированю гипотез\n",
    "\n",
    "Были протестированы гипотезы:\n",
    "\n",
    "- О равенстве пропорций активных пользователей в группах\n",
    "- О равенстве пропорций платящих пользователей (случаев оплат) в группах\n",
    "- О равенстве средних и медианных сумм оплаты:\n",
    "    - О равенстве средних и медианных сумм оплаты между группами\n",
    "    - О равенстве средних и медианных платежей по платформам между группами\n",
    "    - О равенстве средних и медианных платежей по странам между группами\n",
    "- О равенстве пропорций платящих пользователей:\n",
    "    - О равенстве пропорций платящих пользователей (случаев оплаты) по платформам между группами\n",
    "    - О равенстве пропорций платящих пользователей (случаев оплаты) по странам между группами\n",
    "\n",
    "Переход к новой модели оплаты привел к повышению среднего и медианного платежей, а также повышению доли активных пользователей, т.е. увеличению интереса к продукту. Анализ повышений при разбивке по странам и платформам показал, что повышения происходят независимо от платформы и страны, т.е. это не связано со страной или платформой. Таким образом, наблюдается общий эффект повышения интереса и уровня платежей при переходе от старой модели оплаты к новой. **Новую модель оплаты можно раскатать на всех пользователей.**"
   ]
  },
  {
   "cell_type": "markdown",
   "metadata": {},
   "source": [
    "### Дополнения"
   ]
  },
  {
   "cell_type": "markdown",
   "metadata": {},
   "source": [
    "##### Д1. Дополнительная инфографика по странам"
   ]
  },
  {
   "cell_type": "code",
   "execution_count": 222,
   "metadata": {},
   "outputs": [
    {
     "data": {
      "image/png": "[encoded data removed]",
      "text/plain": [
       "<Figure size 1080x1080 with 7 Axes>"
      ]
     },
     "metadata": {
      "needs_background": "light"
     },
     "output_type": "display_data"
    }
   ],
   "source": [
    "fig, axes = plt.subplots(3, 3, figsize=(15, 15))\n",
    "\n",
    "# График 0,0 -----------------------------------------------------------------------------------------------------------\n",
    "ax_0 = sns.countplot(ax=axes[0, 0], \n",
    "                     x='country', \n",
    "                     data=merged_data)\n",
    "\n",
    "ax_0.bar_label(ax_0.containers[0])\n",
    "axes[0, 0].set_title('Users distribution by countries')\n",
    "\n",
    "# График 0,1 -----------------------------------------------------------------------------------------------------------\n",
    "sex_perc_countr = (merged_data\n",
    "                    .groupby('country')['sex']\n",
    "                    .value_counts(normalize=True)\n",
    "                    .mul(100))\n",
    "\n",
    "sex_perc_countr = (sex_perc_countr\n",
    "                   .to_frame()\n",
    "                   .rename(columns={'sex': 'sex_perc'})\n",
    "                   .reset_index())\n",
    "\n",
    "ax_1 = sns.barplot(ax=axes[0, 1], \n",
    "                   x='country', \n",
    "                   y='sex_perc', \n",
    "                   hue='sex', \n",
    "                   data=sex_perc_countr)\n",
    "\n",
    "ax_1.bar_label(ax_1.containers[0])\n",
    "ax_1.bar_label(ax_1.containers[1])\n",
    "axes[0, 1].set_title('Users distribution by sex in countries') \n",
    "axes[0, 1].set_ylabel('%')\n",
    "axes[0, 1].legend(loc='lower right')\n",
    "\n",
    "# График 0,2 -----------------------------------------------------------------------------------------------------------\n",
    "ax_2 = sns.boxplot(ax=axes[0, 2], \n",
    "                   x='country', \n",
    "                   y='revenue', \n",
    "                   hue='sex', \n",
    "                   data=merged_data)\n",
    "\n",
    "axes[0, 2].set_title('Payments by users sex in countries')\n",
    "\n",
    "# График 1,0 ----------------------------------------------------------------------------------------------------------- \n",
    "ax_3 = sns.boxplot(ax=axes[1, 0], \n",
    "                   x='country', \n",
    "                   y='revenue', \n",
    "                   hue='platform', \n",
    "                   data=merged_data)\n",
    "\n",
    "axes[1, 0].set_title('Revenue by platfoms')\n",
    "\n",
    "# График 1,1 ----------------------------------------------------------------------------------------------------------- \n",
    "ax_4 = sns.boxplot(ax=axes[1, 1], \n",
    "                   x='country', \n",
    "                   y='revenue', \n",
    "                   hue='sex', \n",
    "                   data=merged_data)\n",
    "\n",
    "axes[1, 1].set_title('Revenue in countries by users sex')\n",
    "\n",
    "# График 1,2 ----------------------------------------------------------------------------------------------------------- \n",
    "ax_5 = sns.barplot(ax=axes[1, 2], \n",
    "                   x='country', \n",
    "                   y='revenue', \n",
    "                   data=merged_data, \n",
    "                   estimator=len)\n",
    "\n",
    "ax_5.bar_label(ax_5.containers[0])\n",
    "axes[1, 2].set_title('Number of payments in countries')\n",
    "\n",
    "# График 2,2 ----------------------------------------------------------------------------------------------------------- \n",
    "perc_pay_countr = (merged_data[merged_data['revenue'].notnull()]\n",
    "                   .groupby('country')['country'].count() / \n",
    "                   merged_data.groupby('country')['country'].count() * 100)\n",
    "ax_6 = sns.barplot(ax=axes[2, 0], \n",
    "                   x=perc_pay_countr.index, \n",
    "                   y=perc_pay_countr.values.flatten())\n",
    "ax_6.bar_label(ax_6.containers[0])\n",
    "axes[2, 0].set_title('Percent of paying users in countries')\n",
    "\n",
    "fig.delaxes(ax = axes[2, 1])\n",
    "fig.delaxes(ax = axes[2, 2])\n",
    "\n",
    "plt.show()"
   ]
  },
  {
   "cell_type": "markdown",
   "metadata": {},
   "source": [
    "##### Д2. Дополнительная инфографика по полу пользователей"
   ]
  },
  {
   "cell_type": "code",
   "execution_count": 223,
   "metadata": {},
   "outputs": [
    {
     "data": {
      "image/png": "[encoded data removed]",
      "text/plain": [
       "<Figure size 432x288 with 1 Axes>"
      ]
     },
     "metadata": {
      "needs_background": "light"
     },
     "output_type": "display_data"
    }
   ],
   "source": [
    "sns.boxplot(x='sex', \n",
    "            y='revenue', \n",
    "            hue='platform', \n",
    "            data=merged_data)\n",
    "\n",
    "plt.title('Revenue by users sex and platforms')\n",
    "plt.show()"
   ]
  },
  {
   "cell_type": "markdown",
   "metadata": {},
   "source": [
    "[ссылка на дашборд](https://public.tableau.com/app/profile/alex3577/viz/FinalProjectKC4var/Dashboard1?publish=yes)"
   ]
  }
 ],
 "metadata": {
  "kernelspec": {
   "display_name": "Python 3",
   "language": "python",
   "name": "python3"
  },
  "language_info": {
   "codemirror_mode": {
    "name": "ipython",
    "version": 3
   },
   "file_extension": ".py",
   "mimetype": "text/x-python",
   "name": "python",
   "nbconvert_exporter": "python",
   "pygments_lexer": "ipython3",
   "version": "3.7.1"
  }
 },
 "nbformat": 4,
 "nbformat_minor": 4
}
